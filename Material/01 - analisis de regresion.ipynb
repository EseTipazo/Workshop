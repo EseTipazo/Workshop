{
 "cells": [
  {
   "cell_type": "markdown",
   "metadata": {},
   "source": [
    "# MODELOS PREDICTIVOS CON PYTHON\n",
    "\n",
    "## Introducción\n",
    "\n",
    " Realizaremos analisis de prediccion sobre una variable de valor, el objetivo general es ajustar un modelo de variables significativas que nos ayuden a predecir en un porcentaje de certeza alto el valor de la variable de valor.\n",
    "\n",
    "**Nota**: para la realizacion de este desafio utilizaremos las siguientes librerias **numpy**, **pandas**, **seaborn**, **matplotlib**, **openpyxl**, **sklearn**.\n",
    "\n",
    "***"
   ]
  },
  {
   "cell_type": "markdown",
   "metadata": {},
   "source": [
    "## Cargamos las librerias a utilizar"
   ]
  },
  {
   "cell_type": "code",
   "execution_count": null,
   "metadata": {},
   "outputs": [],
   "source": [
    "import numpy as np\n",
    "import pandas as pd\n",
    "import matplotlib.pyplot as plt\n",
    "import seaborn as sns\n",
    "%matplotlib inline "
   ]
  },
  {
   "cell_type": "markdown",
   "metadata": {},
   "source": [
    "## Se carga el data set"
   ]
  },
  {
   "cell_type": "code",
   "execution_count": null,
   "metadata": {},
   "outputs": [],
   "source": [
    "path = './datos/fifa_datos_limpios.csv'\n",
    "df = pd.read_csv(path)\n",
    "len(df)"
   ]
  },
  {
   "cell_type": "code",
   "execution_count": null,
   "metadata": {},
   "outputs": [],
   "source": [
    "import io\n",
    "from google.colab import files\n",
    "\n",
    "uploaded = files.upload()"
   ]
  },
  {
   "cell_type": "code",
   "execution_count": null,
   "metadata": {},
   "outputs": [],
   "source": [
    "df = pd.read_csv(io.BytesIO(uploaded['fifa_datos_limpios.csv']))\n",
    "print(df)"
   ]
  },
  {
   "cell_type": "markdown",
   "metadata": {},
   "source": [
    "## Vemos graficamente las tablas"
   ]
  },
  {
   "cell_type": "code",
   "execution_count": null,
   "metadata": {},
   "outputs": [],
   "source": [
    "# print(df.info())\n",
    "df.head()"
   ]
  },
  {
   "cell_type": "code",
   "execution_count": null,
   "metadata": {},
   "outputs": [],
   "source": [
    "print(df.dtypes)"
   ]
  },
  {
   "cell_type": "markdown",
   "metadata": {},
   "source": [
    "Se analiza correlacion de las columnas Potential, Overall y International Reputation con Value-NUM"
   ]
  },
  {
   "cell_type": "code",
   "execution_count": null,
   "metadata": {},
   "outputs": [],
   "source": [
    "# df[['Potential', 'Overall','Value-NUM']].corr()\n",
    "df.corr().sort_values(by='Value-NUM')['Value-NUM']"
   ]
  },
  {
   "cell_type": "code",
   "execution_count": null,
   "metadata": {},
   "outputs": [],
   "source": [
    "sns.regplot(x=\"Potential\", y=\"Value-NUM\", data=df)\n",
    "plt.ylim(0,)"
   ]
  },
  {
   "cell_type": "code",
   "execution_count": null,
   "metadata": {},
   "outputs": [],
   "source": [
    "sns.regplot(x=\"Overall\", y=\"Value-NUM\", data=df)\n",
    "plt.ylim(0,)"
   ]
  },
  {
   "cell_type": "code",
   "execution_count": null,
   "metadata": {},
   "outputs": [],
   "source": [
    "sns.regplot(x=\"International Reputation\", y=\"Value-NUM\", data=df)\n",
    "plt.ylim(0,)"
   ]
  },
  {
   "cell_type": "code",
   "execution_count": null,
   "metadata": {},
   "outputs": [],
   "source": [
    "visualizar = df[['Potential','Overall','International Reputation']]\n",
    "visualizar.hist()\n",
    "plt.show()"
   ]
  },
  {
   "cell_type": "markdown",
   "metadata": {},
   "source": [
    "Se puede observar que se presenta una tendendia lineal con la variable Potential y Overall pero no se logra apreciar una relacion lineal con la variable International Reputation, aparentar tener un comportamiento discreto. Tambien se puede ver en el histograma un comportamiento normal en las variables Potencial y Overall"
   ]
  },
  {
   "cell_type": "markdown",
   "metadata": {},
   "source": [
    "## Analisis de variables categóricas"
   ]
  },
  {
   "cell_type": "code",
   "execution_count": null,
   "metadata": {},
   "outputs": [],
   "source": [
    "sns.boxplot(x=\"International Reputation\", y=\"Value-NUM\", data=df)"
   ]
  },
  {
   "cell_type": "markdown",
   "metadata": {},
   "source": [
    "Se puede observar que la distrubion de la variable Value-NUM entre las diferentes categorias de la variables International Reputation es diferente, por lo que podria ser una variable predictora de la variables Value-NUM"
   ]
  },
  {
   "cell_type": "markdown",
   "metadata": {},
   "source": [
    "## Evaluacion de Correlacion de Pearson y valor P"
   ]
  },
  {
   "cell_type": "code",
   "execution_count": null,
   "metadata": {},
   "outputs": [],
   "source": [
    "from scipy import stats\n",
    "coeficiente_pearson, valor_p = stats.pearsonr(df['Potential'], df['Value-NUM'])\n",
    "print(\"El coeficiente de la Correlación de Pearson es\", coeficiente_pearson, \" con un valor de P =\", valor_p)"
   ]
  },
  {
   "cell_type": "code",
   "execution_count": null,
   "metadata": {},
   "outputs": [],
   "source": [
    "coeficiente_pearson, valor_p = stats.pearsonr(df['Overall'], df['Value-NUM'])\n",
    "print(\"El coeficiente de la Correlación de Pearson es\", coeficiente_pearson, \" con un valor de P =\", valor_p)"
   ]
  },
  {
   "cell_type": "markdown",
   "metadata": {},
   "source": [
    "Se observa que en ambos casos tenemos un valor P igual a cero, esto indicandonos que tienen una fuerte relacion con la variable Value-NUM"
   ]
  },
  {
   "cell_type": "markdown",
   "metadata": {},
   "source": [
    "## $\\therefore$ Conclusión: Variables importantes"
   ]
  },
  {
   "cell_type": "markdown",
   "metadata": {},
   "source": [
    "Variables relevantes para predecir el valor de un jugador son las siguientes:"
   ]
  },
  {
   "cell_type": "markdown",
   "metadata": {},
   "source": [
    "Variables numéricas continuas:\n",
    "- Potential\n",
    "- Overall\n",
    "\n",
    "Variables discretas:\n",
    "- International Reputation"
   ]
  },
  {
   "cell_type": "markdown",
   "metadata": {},
   "source": [
    "# Desarrollo del Modelo\n"
   ]
  },
  {
   "cell_type": "code",
   "execution_count": null,
   "metadata": {},
   "outputs": [],
   "source": [
    "df_var_numericas = df._get_numeric_data()\n",
    "df_var_numericas = df_var_numericas.drop(['Unnamed: 0'], axis=1)\n",
    "df_var_numericas.head()"
   ]
  },
  {
   "cell_type": "markdown",
   "metadata": {},
   "source": [
    "Se dividen los datos en un conjunto de entrenamiento y otro conjunto de pruebas"
   ]
  },
  {
   "cell_type": "code",
   "execution_count": null,
   "metadata": {},
   "outputs": [],
   "source": [
    "# valor a predecir\n",
    "y_datos = df_var_numericas[['Value-NUM']]\n",
    "y_datos"
   ]
  },
  {
   "cell_type": "code",
   "execution_count": null,
   "metadata": {},
   "outputs": [],
   "source": [
    "#variables independientes\n",
    "x_datos=df_var_numericas.drop('Value-NUM',axis=1)\n",
    "x_datos"
   ]
  },
  {
   "cell_type": "code",
   "execution_count": null,
   "metadata": {},
   "outputs": [],
   "source": [
    "from sklearn.model_selection import train_test_split\n",
    "\n",
    "x_entrena, x_prueba, y_entrena, y_prueba = train_test_split(x_datos, y_datos, test_size=0.10, random_state=1)\n",
    "\n",
    "print(\"número de muestras de prueba:\", x_prueba.shape[0])\n",
    "print(\"número de muestras de entrenamiento:\",x_entrena.shape[0])"
   ]
  },
  {
   "cell_type": "markdown",
   "metadata": {},
   "source": [
    "Se implementa el modelo lineal"
   ]
  },
  {
   "cell_type": "code",
   "execution_count": null,
   "metadata": {},
   "outputs": [],
   "source": [
    "from sklearn.linear_model import LinearRegression"
   ]
  },
  {
   "cell_type": "code",
   "execution_count": null,
   "metadata": {},
   "outputs": [],
   "source": [
    "lreP=LinearRegression()\n",
    "lreP"
   ]
  },
  {
   "cell_type": "markdown",
   "metadata": {},
   "source": [
    "Se implementa un modelo lineal utilizando la variable Potential como variable independiente"
   ]
  },
  {
   "cell_type": "code",
   "execution_count": null,
   "metadata": {},
   "outputs": [],
   "source": [
    "lreP.fit(x_entrena[['Potential']], y_entrena)\n"
   ]
  },
  {
   "cell_type": "markdown",
   "metadata": {},
   "source": [
    "Una vez terminado el entrenamiento del modelo lineal utilizando la variable Potential como variable independiente se procede a calcular el valor de $R^2$ en los datos de prueba."
   ]
  },
  {
   "cell_type": "code",
   "execution_count": null,
   "metadata": {},
   "outputs": [],
   "source": [
    "print(\"R cuadrado datos de prueba: \", lreP.score(x_prueba[['Potential']], y_prueba))\n",
    "print(\"R cuadrado datos de entrenamiento: \", lreP.score(x_entrena[['Potential']], y_entrena))"
   ]
  },
  {
   "cell_type": "markdown",
   "metadata": {},
   "source": [
    " Se observa que el valor de $R^2$ es similar al usando en los datos de prueba con los datos de entrenamiento."
   ]
  },
  {
   "cell_type": "markdown",
   "metadata": {},
   "source": [
    "Porbamos un modelo lineal utilizando la variable independiente Overall "
   ]
  },
  {
   "cell_type": "code",
   "execution_count": null,
   "metadata": {},
   "outputs": [],
   "source": [
    "lreO=LinearRegression()\n",
    "lreO"
   ]
  },
  {
   "cell_type": "code",
   "execution_count": null,
   "metadata": {},
   "outputs": [],
   "source": [
    "lreO.fit(x_entrena[['Overall']], y_entrena)"
   ]
  },
  {
   "cell_type": "code",
   "execution_count": null,
   "metadata": {},
   "outputs": [],
   "source": [
    "print(\"R cuadrado datos de prueba: \", lreO.score(x_prueba[['Overall']], y_prueba))\n",
    "print(\"R cuadrado datos de entrenamiento: \", lreO.score(x_entrena[['Overall']], y_entrena))\n"
   ]
  },
  {
   "cell_type": "markdown",
   "metadata": {},
   "source": [
    "Se puede concluir que utilizando Overall tiene un poco mejor el R cuadrado pero no es tan significativo "
   ]
  },
  {
   "cell_type": "markdown",
   "metadata": {},
   "source": [
    "Se implementa modelo Lineal Múltiple"
   ]
  },
  {
   "cell_type": "code",
   "execution_count": null,
   "metadata": {},
   "outputs": [],
   "source": [
    "lre_multiple=LinearRegression()\n",
    "lre_multiple"
   ]
  },
  {
   "cell_type": "code",
   "execution_count": null,
   "metadata": {},
   "outputs": [],
   "source": [
    "Z = x_entrena[['Potential', 'Overall']]"
   ]
  },
  {
   "cell_type": "code",
   "execution_count": null,
   "metadata": {},
   "outputs": [],
   "source": [
    "Z"
   ]
  },
  {
   "cell_type": "code",
   "execution_count": null,
   "metadata": {},
   "outputs": [],
   "source": [
    "Z.hist()\n",
    "plt.show()"
   ]
  },
  {
   "cell_type": "code",
   "execution_count": null,
   "metadata": {},
   "outputs": [],
   "source": [
    "lre_multiple.fit(Z, y_entrena)"
   ]
  },
  {
   "cell_type": "code",
   "execution_count": null,
   "metadata": {},
   "outputs": [],
   "source": [
    "print(\"R cuadrado datos de entrenamiento: \", lre_multiple.score(Z, y_entrena))\n",
    "print(\"R cuadrado datos de prueba: \", lre_multiple.score(x_prueba[['Potential', 'Overall']], y_prueba))"
   ]
  },
  {
   "cell_type": "markdown",
   "metadata": {},
   "source": [
    "Se observa una mejora en el R cuadrado pero aun sigue siendo menor al 50%. Se procede a utlizar modelos polinomiales\n"
   ]
  },
  {
   "cell_type": "markdown",
   "metadata": {},
   "source": [
    "## Modelo polinomial"
   ]
  },
  {
   "cell_type": "code",
   "execution_count": null,
   "metadata": {},
   "outputs": [],
   "source": [
    "from sklearn.preprocessing import PolynomialFeatures"
   ]
  },
  {
   "cell_type": "code",
   "execution_count": null,
   "metadata": {},
   "outputs": [],
   "source": [
    "# se crea un modelo de grado 2\n",
    "pr=PolynomialFeatures(degree=2)\n",
    "pr"
   ]
  },
  {
   "cell_type": "code",
   "execution_count": null,
   "metadata": {},
   "outputs": [],
   "source": [
    "Z_pr=pr.fit_transform(Z)"
   ]
  },
  {
   "cell_type": "code",
   "execution_count": null,
   "metadata": {},
   "outputs": [],
   "source": [
    "Z_pr"
   ]
  },
  {
   "cell_type": "code",
   "execution_count": null,
   "metadata": {},
   "outputs": [],
   "source": [
    "from sklearn.pipeline import Pipeline\n",
    "from sklearn.preprocessing import StandardScaler"
   ]
  },
  {
   "cell_type": "code",
   "execution_count": null,
   "metadata": {},
   "outputs": [],
   "source": [
    "Entrada=[('normalizar',StandardScaler()), ('polinomio', PolynomialFeatures(include_bias=False)), ('modelo',LinearRegression())]"
   ]
  },
  {
   "cell_type": "code",
   "execution_count": null,
   "metadata": {},
   "outputs": [],
   "source": [
    "tuberia=Pipeline(Entrada)\n",
    "tuberia"
   ]
  },
  {
   "cell_type": "code",
   "execution_count": null,
   "metadata": {},
   "outputs": [],
   "source": [
    "Z = Z.astype(float)\n",
    "tuberia.fit(Z,y_entrena)"
   ]
  },
  {
   "cell_type": "code",
   "execution_count": null,
   "metadata": {},
   "outputs": [],
   "source": [
    "y_tubo=tuberia.predict(Z)\n",
    "y_tubo[0:4]"
   ]
  },
  {
   "cell_type": "markdown",
   "metadata": {},
   "source": [
    "Se calcula el R cuadrado para evaluar su precision"
   ]
  },
  {
   "cell_type": "code",
   "execution_count": null,
   "metadata": {},
   "outputs": [],
   "source": [
    "from sklearn.metrics import r2_score"
   ]
  },
  {
   "cell_type": "code",
   "execution_count": null,
   "metadata": {},
   "outputs": [],
   "source": [
    "r_cuadrado = r2_score(y_entrena, y_tubo)\n",
    "print('El valor de R-cuadrado es: ', r_cuadrado)"
   ]
  },
  {
   "cell_type": "markdown",
   "metadata": {},
   "source": [
    "Se puede ver una mejora significativa en el modelo, teniendo un R cuadrado mayor al 0.80 en los datos de entrenamiento"
   ]
  },
  {
   "cell_type": "code",
   "execution_count": null,
   "metadata": {},
   "outputs": [],
   "source": [
    "Z_test = x_prueba[['Potential', 'Overall']]\n",
    "y_tubo_test=tuberia.predict(Z_test)\n",
    "y_tubo_test[0:4]"
   ]
  },
  {
   "cell_type": "code",
   "execution_count": null,
   "metadata": {},
   "outputs": [],
   "source": [
    " \n",
    "print('El valor de R-cuadrado datos test es: ', r2_score(y_prueba, y_tubo_test))"
   ]
  },
  {
   "cell_type": "markdown",
   "metadata": {},
   "source": [
    "Se observa que el R cuadrado en datos de prueba es mayor a 0,79, lo que nos da un resultado de mejor calidad en comparacion a los modelos lineales que obtienen un R cuadrado inferior al 0,50. Concluyendo que el mejor modelo que se ajusta a los datos es el modelo polinomial"
   ]
  },
  {
   "cell_type": "code",
   "execution_count": null,
   "metadata": {},
   "outputs": [],
   "source": [
    "from sklearn.model_selection import cross_val_score"
   ]
  },
  {
   "cell_type": "code",
   "execution_count": null,
   "metadata": {},
   "outputs": [],
   "source": [
    "R_cruceP = cross_val_score(lreP, x_prueba[['Potential']], y_prueba, cv=4)\n",
    "R_cruceO = cross_val_score(lreO, x_prueba[['Overall']], y_prueba, cv=4)\n",
    "R_crucePoli = cross_val_score(tuberia, Z_test, y_prueba, cv=4)\n",
    "print(\"Potential. El promedio de cada iteración es \", R_cruceP.mean(), \"y la desviación estándar es \" , R_cruceP.std())\n",
    "print(\"Overall. El promedio de cada iteración es \", R_cruceO.mean(), \"y la desviación estándar es \" , R_cruceO.std())\n",
    "print(\"Overall. El promedio de cada iteración es \", R_crucePoli.mean(), \"y la desviación estándar es \" , R_crucePoli.std())"
   ]
  },
  {
   "cell_type": "markdown",
   "metadata": {},
   "source": [
    "Entodas las pruebas, el modelo Polinomial sigue siendo el mejor para predecir el valor de un jugador"
   ]
  },
  {
   "cell_type": "markdown",
   "metadata": {},
   "source": []
  }
 ],
 "metadata": {
  "kernelspec": {
   "display_name": "Python 3.8.8 ('base')",
   "language": "python",
   "name": "python3"
  },
  "language_info": {
   "codemirror_mode": {
    "name": "ipython",
    "version": 3
   },
   "file_extension": ".py",
   "mimetype": "text/x-python",
   "name": "python",
   "nbconvert_exporter": "python",
   "pygments_lexer": "ipython3",
   "version": "3.8.8 (default, Apr 13 2021, 12:59:45) \n[Clang 10.0.0 ]"
  },
  "orig_nbformat": 4,
  "vscode": {
   "interpreter": {
    "hash": "95a1c2e80f057afcd5a481c3cc5cf533e1011abe1809e08fa3f649259a6254cc"
   }
  }
 },
 "nbformat": 4,
 "nbformat_minor": 2
}
